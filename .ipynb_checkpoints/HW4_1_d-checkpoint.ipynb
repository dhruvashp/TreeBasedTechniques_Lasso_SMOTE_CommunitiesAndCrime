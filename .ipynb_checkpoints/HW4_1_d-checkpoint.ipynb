{
 "cells": [
  {
   "cell_type": "markdown",
   "metadata": {},
   "source": [
    "HW4\n",
    "1d\n",
    "We'll perform all tasks on train set now (first 1495 rows)"
   ]
  },
  {
   "cell_type": "code",
   "execution_count": 11,
   "metadata": {},
   "outputs": [
    {
     "name": "stdout",
     "output_type": "stream",
     "text": [
      "      population  householdsize  racepctblack  racePctWhite  racePctAsian  \\\n",
      "0           0.19           0.33          0.02          0.90          0.12   \n",
      "1           0.00           0.16          0.12          0.74          0.45   \n",
      "2           0.00           0.42          0.49          0.56          0.17   \n",
      "3           0.04           0.77          1.00          0.08          0.12   \n",
      "4           0.01           0.55          0.02          0.95          0.09   \n",
      "...          ...            ...           ...           ...           ...   \n",
      "1989        0.01           0.40          0.10          0.87          0.12   \n",
      "1990        0.05           0.96          0.46          0.28          0.83   \n",
      "1991        0.16           0.37          0.25          0.69          0.04   \n",
      "1992        0.08           0.51          0.06          0.87          0.22   \n",
      "1993        0.20           0.78          0.14          0.46          0.24   \n",
      "\n",
      "      racePctHisp  agePct12t21  agePct12t29  agePct16t24  agePct65up  ...  \\\n",
      "0            0.17         0.34         0.47         0.29        0.32  ...   \n",
      "1            0.07         0.26         0.59         0.35        0.27  ...   \n",
      "2            0.04         0.39         0.47         0.28        0.32  ...   \n",
      "3            0.10         0.51         0.50         0.34        0.21  ...   \n",
      "4            0.05         0.38         0.38         0.23        0.36  ...   \n",
      "...           ...          ...          ...          ...         ...  ...   \n",
      "1989         0.16         0.43         0.51         0.35        0.30  ...   \n",
      "1990         0.32         0.69         0.86         0.73        0.14  ...   \n",
      "1991         0.25         0.35         0.50         0.31        0.54  ...   \n",
      "1992         0.10         0.58         0.74         0.63        0.41  ...   \n",
      "1993         0.77         0.50         0.62         0.40        0.17  ...   \n",
      "\n",
      "      LandArea  PopDens  PctUsePubTrans  PolicCars  PolicOperBudg  \\\n",
      "0         0.12     0.26            0.20   0.060000       0.040000   \n",
      "1         0.02     0.12            0.45   0.137971       0.079396   \n",
      "2         0.01     0.21            0.02   0.175113       0.077734   \n",
      "3         0.02     0.39            0.28   0.189635       0.075865   \n",
      "4         0.04     0.09            0.02   0.158111       0.073190   \n",
      "...        ...      ...             ...        ...            ...   \n",
      "1989      0.01     0.28            0.05   0.176913       0.073840   \n",
      "1990      0.02     0.37            0.20   0.176046       0.077894   \n",
      "1991      0.08     0.32            0.18   0.080000       0.060000   \n",
      "1992      0.03     0.38            0.33   0.020000       0.020000   \n",
      "1993      0.11     0.30            0.05   0.080000       0.040000   \n",
      "\n",
      "      LemasPctPolicOnPatr  LemasGangUnitDeploy  LemasPctOfficDrugUn  \\\n",
      "0                0.900000             0.500000                 0.32   \n",
      "1                0.697768             0.548232                 0.00   \n",
      "2                0.711205             0.415868                 0.00   \n",
      "3                0.692768             0.435418                 0.00   \n",
      "4                0.703297             0.452906                 0.00   \n",
      "...                   ...                  ...                  ...   \n",
      "1989             0.702824             0.473061                 0.00   \n",
      "1990             0.706823             0.500307                 0.00   \n",
      "1991             0.780000             0.000000                 0.91   \n",
      "1992             0.790000             0.000000                 0.22   \n",
      "1993             0.730000             0.500000                 1.00   \n",
      "\n",
      "      PolicBudgPerPop  ViolentCrimesPerPop  \n",
      "0            0.140000                 0.20  \n",
      "1            0.187791                 0.67  \n",
      "2            0.203544                 0.43  \n",
      "3            0.195125                 0.12  \n",
      "4            0.194705                 0.03  \n",
      "...               ...                  ...  \n",
      "1989         0.192509                 0.09  \n",
      "1990         0.188047                 0.45  \n",
      "1991         0.280000                 0.23  \n",
      "1992         0.180000                 0.19  \n",
      "1993         0.130000                 0.48  \n",
      "\n",
      "[1994 rows x 123 columns]\n"
     ]
    }
   ],
   "source": [
    "import pandas as pd\n",
    "import numpy as np\n",
    "\n",
    "df = pd.read_csv('Final_Imputed_Whole.csv',index_col=0)\n",
    "print(df)\n",
    "\n"
   ]
  },
  {
   "cell_type": "code",
   "execution_count": 12,
   "metadata": {},
   "outputs": [
    {
     "name": "stdout",
     "output_type": "stream",
     "text": [
      "      population  householdsize  racepctblack  racePctWhite  racePctAsian  \\\n",
      "0           0.19           0.33          0.02          0.90          0.12   \n",
      "1           0.00           0.16          0.12          0.74          0.45   \n",
      "2           0.00           0.42          0.49          0.56          0.17   \n",
      "3           0.04           0.77          1.00          0.08          0.12   \n",
      "4           0.01           0.55          0.02          0.95          0.09   \n",
      "...          ...            ...           ...           ...           ...   \n",
      "1490        0.00           0.59          0.01          0.69          1.00   \n",
      "1491        0.16           0.62          0.03          0.74          0.48   \n",
      "1492        0.01           0.36          0.95          0.24          0.03   \n",
      "1493        0.06           0.53          0.01          0.98          0.05   \n",
      "1494        0.05           0.43          0.08          0.65          0.12   \n",
      "\n",
      "      racePctHisp  agePct12t21  agePct12t29  agePct16t24  agePct65up  ...  \\\n",
      "0            0.17         0.34         0.47         0.29        0.32  ...   \n",
      "1            0.07         0.26         0.59         0.35        0.27  ...   \n",
      "2            0.04         0.39         0.47         0.28        0.32  ...   \n",
      "3            0.10         0.51         0.50         0.34        0.21  ...   \n",
      "4            0.05         0.38         0.38         0.23        0.36  ...   \n",
      "...           ...          ...          ...          ...         ...  ...   \n",
      "1490         0.07         0.41         0.28         0.23        0.57  ...   \n",
      "1491         0.42         0.44         0.57         0.40        0.25  ...   \n",
      "1492         0.01         0.44         0.42         0.27        0.63  ...   \n",
      "1493         0.01         0.40         0.40         0.24        0.29  ...   \n",
      "1494         1.00         0.37         0.52         0.33        0.44  ...   \n",
      "\n",
      "      LandArea  PopDens  PctUsePubTrans  PolicCars  PolicOperBudg  \\\n",
      "0         0.12     0.26            0.20   0.060000       0.040000   \n",
      "1         0.02     0.12            0.45   0.137971       0.079396   \n",
      "2         0.01     0.21            0.02   0.175113       0.077734   \n",
      "3         0.02     0.39            0.28   0.189635       0.075865   \n",
      "4         0.04     0.09            0.02   0.158111       0.073190   \n",
      "...        ...      ...             ...        ...            ...   \n",
      "1490      0.02     0.14            0.22   0.150718       0.073255   \n",
      "1491      0.07     0.40            0.14   0.070000       0.050000   \n",
      "1492      0.03     0.12            0.01   0.169118       0.079342   \n",
      "1493      0.08     0.15            0.02   0.182868       0.078423   \n",
      "1494      0.00     1.00            1.00   0.000000       0.010000   \n",
      "\n",
      "      LemasPctPolicOnPatr  LemasGangUnitDeploy  LemasPctOfficDrugUn  \\\n",
      "0                0.900000             0.500000                 0.32   \n",
      "1                0.697768             0.548232                 0.00   \n",
      "2                0.711205             0.415868                 0.00   \n",
      "3                0.692768             0.435418                 0.00   \n",
      "4                0.703297             0.452906                 0.00   \n",
      "...                   ...                  ...                  ...   \n",
      "1490             0.698425             0.407645                 0.00   \n",
      "1491             0.850000             0.500000                 0.61   \n",
      "1492             0.697428             0.439982                 0.00   \n",
      "1493             0.705977             0.424088                 0.00   \n",
      "1494             0.770000             0.000000                 0.51   \n",
      "\n",
      "      PolicBudgPerPop  ViolentCrimesPerPop  \n",
      "0            0.140000                 0.20  \n",
      "1            0.187791                 0.67  \n",
      "2            0.203544                 0.43  \n",
      "3            0.195125                 0.12  \n",
      "4            0.194705                 0.03  \n",
      "...               ...                  ...  \n",
      "1490         0.192460                 0.03  \n",
      "1491         0.190000                 0.20  \n",
      "1492         0.199054                 0.30  \n",
      "1493         0.193616                 0.03  \n",
      "1494         0.180000                 0.23  \n",
      "\n",
      "[1495 rows x 123 columns]\n"
     ]
    }
   ],
   "source": [
    "df_train = df.iloc[0:1495,:]\n",
    "print(df_train)"
   ]
  },
  {
   "cell_type": "code",
   "execution_count": 13,
   "metadata": {},
   "outputs": [
    {
     "name": "stdout",
     "output_type": "stream",
     "text": [
      "  population householdsize racepctblack racePctWhite racePctAsian racePctHisp  \\\n",
      "0     2.2411        0.3558      1.42889     0.330213       1.3591     1.61209   \n",
      "\n",
      "  agePct12t21 agePct12t29 agePct16t24 agePct65up  ... PolicAveOTWorked  \\\n",
      "0    0.369083    0.291315     0.50031   0.412776  ...         0.316718   \n",
      "\n",
      "  LandArea   PopDens PctUsePubTrans PolicCars PolicOperBudg  \\\n",
      "0  1.64541  0.864499        1.39711  0.552212      0.773547   \n",
      "\n",
      "  LemasPctPolicOnPatr LemasGangUnitDeploy LemasPctOfficDrugUn PolicBudgPerPop  \n",
      "0            0.118531             0.38323             2.55295        0.321977  \n",
      "\n",
      "[1 rows x 122 columns]\n"
     ]
    }
   ],
   "source": [
    "col_header = df_train.columns\n",
    "feature_header = col_header[0:122]\n",
    "CV = pd.DataFrame(index=np.arange(0,1),columns = feature_header)\n",
    "\n",
    "i=0\n",
    "for i in np.arange(0,122):\n",
    "    std = df_train.iloc[:,i].std()\n",
    "    mean = df_train.iloc[:,i].mean()\n",
    "    CV.iloc[0,i] = std/mean\n",
    "    \n",
    "\n",
    "print(CV)\n",
    "CV.to_csv('Train_Predictor_CV.csv')"
   ]
  },
  {
   "cell_type": "markdown",
   "metadata": {},
   "source": [
    "Here we've exported CV to a .csv file named as Train_Predictor_CV for subsequent use"
   ]
  },
  {
   "cell_type": "code",
   "execution_count": null,
   "metadata": {},
   "outputs": [],
   "source": []
  }
 ],
 "metadata": {
  "kernelspec": {
   "display_name": "Python 3",
   "language": "python",
   "name": "python3"
  },
  "language_info": {
   "codemirror_mode": {
    "name": "ipython",
    "version": 3
   },
   "file_extension": ".py",
   "mimetype": "text/x-python",
   "name": "python",
   "nbconvert_exporter": "python",
   "pygments_lexer": "ipython3",
   "version": "3.7.6"
  }
 },
 "nbformat": 4,
 "nbformat_minor": 4
}

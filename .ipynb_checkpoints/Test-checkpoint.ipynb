{
 "cells": [
  {
   "cell_type": "code",
   "execution_count": 50,
   "metadata": {},
   "outputs": [
    {
     "name": "stderr",
     "output_type": "stream",
     "text": [
      "INFO:weka.core.jvm:JVM already running, call jvm.stop() first\n",
      "INFO:weka.core.jvm:JVM already running, call jvm.stop() first\n"
     ]
    },
    {
     "name": "stdout",
     "output_type": "stream",
     "text": [
      "    a  b  c  d  e\n",
      "0   0  1  2  1  0\n",
      "1   0  1  1  1  1\n",
      "2   1  1  1  1  1\n",
      "3   0  1  2  1  0\n",
      "4   0  1  1  1  1\n",
      "5   1  1  1  1  1\n",
      "6   0  1  2  1  0\n",
      "7   0  1  1  1  1\n",
      "8   1  1  1  1  1\n",
      "9   0  1  2  1  0\n",
      "10  0  1  1  1  1\n",
      "11  1  1  1  1  1\n"
     ]
    }
   ],
   "source": [
    "import imblearn\n",
    "import pandas as pd\n",
    "import numpy as np\n",
    "import weka.core.jvm as jvm\n",
    "from weka.classifiers import Classifier\n",
    "from weka.core.converters import Loader, Saver\n",
    "from weka.classifiers import Classifier, Evaluation\n",
    "from weka.core.classes import Random\n",
    "from sklearn.metrics import confusion_matrix\n",
    "import seaborn as sns\n",
    "from sklearn import metrics\n",
    "from sklearn.model_selection import KFold\n",
    "jvm.start()\n",
    "jvm.start(packages=True)\n",
    "\n",
    "X = np.array([[0,1,2,1,0],[0,1,1,1,1],[1,1,1,1,1],[0,1,2,1,0],[0,1,1,1,1],[1,1,1,1,1],[0,1,2,1,0],[0,1,1,1,1],[1,1,1,1,1],[0,1,2,1,0],[0,1,1,1,1],[1,1,1,1,1]])\n",
    "X = pd.DataFrame(X,columns=['a','b','c','d','e'])\n",
    "print(X)\n"
   ]
  },
  {
   "cell_type": "code",
   "execution_count": 51,
   "metadata": {},
   "outputs": [
    {
     "name": "stdout",
     "output_type": "stream",
     "text": [
      "    O\n",
      "0   0\n",
      "1   0\n",
      "2   0\n",
      "3   0\n",
      "4   0\n",
      "5   0\n",
      "6   0\n",
      "7   0\n",
      "8   0\n",
      "9   1\n",
      "10  1\n",
      "11  1\n"
     ]
    }
   ],
   "source": [
    "y = np.array([0,0,0,0,0,0,0,0,0,1,1,1])\n",
    "y = pd.DataFrame(y,columns=['O'])\n",
    "print(y)\n"
   ]
  },
  {
   "cell_type": "code",
   "execution_count": 52,
   "metadata": {},
   "outputs": [
    {
     "name": "stdout",
     "output_type": "stream",
     "text": [
      "    a  b  c  d  e\n",
      "0   0  1  2  1  0\n",
      "1   0  1  1  1  1\n",
      "2   1  1  1  1  1\n",
      "3   0  1  2  1  0\n",
      "4   0  1  1  1  1\n",
      "5   1  1  1  1  1\n",
      "6   0  1  2  1  0\n",
      "7   0  1  1  1  1\n",
      "8   1  1  1  1  1\n",
      "9   0  1  2  1  0\n",
      "10  0  1  1  1  1\n",
      "11  1  1  1  1  1\n",
      "12  0  1  1  1  0\n",
      "13  0  1  1  1  0\n",
      "14  0  1  1  1  0\n",
      "15  0  1  1  1  0\n",
      "16  0  1  1  1  0\n",
      "17  0  1  1  1  1\n",
      "    O\n",
      "0   0\n",
      "1   0\n",
      "2   0\n",
      "3   0\n",
      "4   0\n",
      "5   0\n",
      "6   0\n",
      "7   0\n",
      "8   0\n",
      "9   1\n",
      "10  1\n",
      "11  1\n",
      "12  1\n",
      "13  1\n",
      "14  1\n",
      "15  1\n",
      "16  1\n",
      "17  1\n"
     ]
    }
   ],
   "source": [
    "from imblearn.over_sampling import SMOTE \n",
    "oversample = SMOTE(k_neighbors = 2)\n",
    "X, y = oversample.fit_resample(X, y)\n",
    "print(X)\n",
    "print(y)"
   ]
  },
  {
   "cell_type": "code",
   "execution_count": 53,
   "metadata": {},
   "outputs": [
    {
     "name": "stdout",
     "output_type": "stream",
     "text": [
      "18\n"
     ]
    }
   ],
   "source": [
    "print(X.shape[0])"
   ]
  },
  {
   "cell_type": "code",
   "execution_count": 54,
   "metadata": {},
   "outputs": [
    {
     "name": "stdout",
     "output_type": "stream",
     "text": [
      "0     0\n",
      "1     0\n",
      "2     0\n",
      "3     0\n",
      "4     0\n",
      "5     0\n",
      "6     0\n",
      "7     0\n",
      "8     0\n",
      "9     1\n",
      "10    1\n",
      "11    1\n",
      "12    1\n",
      "13    1\n",
      "14    1\n",
      "15    1\n",
      "16    1\n",
      "17    1\n",
      "Name: O, dtype: int32\n"
     ]
    }
   ],
   "source": [
    "y1 = y.iloc[:,0]\n",
    "print(y1)"
   ]
  },
  {
   "cell_type": "code",
   "execution_count": 55,
   "metadata": {},
   "outputs": [
    {
     "data": {
      "text/plain": [
       "\"\\nprint(y1.shape[0])\\n\\nfor i in np.arange(0,18):\\n    if y1[i] == 0:\\n        y1[i] = 'neg'\\n    else:\\n        y1[i] = 'pos'\\n\\nprint(y1)\\n\\n\""
      ]
     },
     "execution_count": 55,
     "metadata": {},
     "output_type": "execute_result"
    }
   ],
   "source": [
    "\n",
    "print(y1.shape[0])\n",
    "\n",
    "for i in np.arange(0,18):\n",
    "    if y1[i] == 0:\n",
    "        y1[i] = 'neg'\n",
    "    else:\n",
    "        y1[i] = 'pos'\n",
    "\n",
    "print(y1)\n"
   ]
  },
  {
   "cell_type": "code",
   "execution_count": 56,
   "metadata": {
    "scrolled": true
   },
   "outputs": [
    {
     "name": "stdout",
     "output_type": "stream",
     "text": [
      "    a  b  c  d  e  O\n",
      "0   0  1  2  1  0  0\n",
      "1   0  1  1  1  1  0\n",
      "2   1  1  1  1  1  0\n",
      "3   0  1  2  1  0  0\n",
      "4   0  1  1  1  1  0\n",
      "5   1  1  1  1  1  0\n",
      "6   0  1  2  1  0  0\n",
      "7   0  1  1  1  1  0\n",
      "8   1  1  1  1  1  0\n",
      "9   0  1  2  1  0  1\n",
      "10  0  1  1  1  1  1\n",
      "11  1  1  1  1  1  1\n",
      "12  0  1  1  1  0  1\n",
      "13  0  1  1  1  0  1\n",
      "14  0  1  1  1  0  1\n",
      "15  0  1  1  1  0  1\n",
      "16  0  1  1  1  0  1\n",
      "17  0  1  1  1  1  1\n"
     ]
    }
   ],
   "source": [
    "df = pd.concat([X, y1], axis=1)\n",
    "print(df)"
   ]
  },
  {
   "cell_type": "code",
   "execution_count": 57,
   "metadata": {
    "scrolled": true
   },
   "outputs": [
    {
     "name": "stdout",
     "output_type": "stream",
     "text": [
      "[[0 1 2 1 0 0]\n",
      " [0 1 1 1 1 0]\n",
      " [1 1 1 1 1 0]\n",
      " [0 1 2 1 0 0]\n",
      " [0 1 1 1 1 0]\n",
      " [1 1 1 1 1 0]\n",
      " [0 1 2 1 0 0]\n",
      " [0 1 1 1 1 0]\n",
      " [1 1 1 1 1 0]\n",
      " [0 1 2 1 0 1]\n",
      " [0 1 1 1 1 1]\n",
      " [1 1 1 1 1 1]\n",
      " [0 1 1 1 0 1]\n",
      " [0 1 1 1 0 1]\n",
      " [0 1 1 1 0 1]\n",
      " [0 1 1 1 0 1]\n",
      " [0 1 1 1 0 1]\n",
      " [0 1 1 1 1 1]]\n"
     ]
    }
   ],
   "source": [
    "from weka.core.dataset import create_instances_from_lists\n",
    "from weka.core.dataset import create_instances_from_matrices\n",
    "dfa = df.to_numpy()\n",
    "\n",
    "print(dfa)"
   ]
  },
  {
   "cell_type": "code",
   "execution_count": 59,
   "metadata": {},
   "outputs": [
    {
     "name": "stdout",
     "output_type": "stream",
     "text": [
      "@relation data\n",
      "\n",
      "@attribute x1 numeric\n",
      "@attribute x2 numeric\n",
      "@attribute x3 numeric\n",
      "@attribute x4 numeric\n",
      "@attribute x5 numeric\n",
      "@attribute x6 numeric\n",
      "\n",
      "@data\n",
      "0,1,2,1,0,0\n",
      "0,1,1,1,1,0\n",
      "1,1,1,1,1,0\n",
      "0,1,2,1,0,0\n",
      "0,1,1,1,1,0\n",
      "1,1,1,1,1,0\n",
      "0,1,2,1,0,0\n",
      "0,1,1,1,1,0\n",
      "1,1,1,1,1,0\n",
      "0,1,2,1,0,1\n",
      "0,1,1,1,1,1\n",
      "1,1,1,1,1,1\n",
      "0,1,1,1,0,1\n",
      "0,1,1,1,0,1\n",
      "0,1,1,1,0,1\n",
      "0,1,1,1,0,1\n",
      "0,1,1,1,0,1\n",
      "0,1,1,1,1,1\n"
     ]
    }
   ],
   "source": [
    "data = create_instances_from_matrices(dfa)\n",
    "\n",
    "print(data)"
   ]
  },
  {
   "cell_type": "code",
   "execution_count": 61,
   "metadata": {},
   "outputs": [
    {
     "ename": "JavaException",
     "evalue": "weka.classifiers.trees.LMT: Cannot handle numeric class!",
     "output_type": "error",
     "traceback": [
      "\u001b[1;31m---------------------------------------------------------------------------\u001b[0m",
      "\u001b[1;31mJavaException\u001b[0m                             Traceback (most recent call last)",
      "\u001b[1;32m<ipython-input-61-687cab1b0bc0>\u001b[0m in \u001b[0;36m<module>\u001b[1;34m\u001b[0m\n\u001b[0;32m      1\u001b[0m \u001b[0mclassifier\u001b[0m \u001b[1;33m=\u001b[0m \u001b[0mClassifier\u001b[0m\u001b[1;33m(\u001b[0m\u001b[0mclassname\u001b[0m\u001b[1;33m=\u001b[0m\u001b[1;34m\"weka.classifiers.trees.LMT\"\u001b[0m\u001b[1;33m)\u001b[0m\u001b[1;33m\u001b[0m\u001b[1;33m\u001b[0m\u001b[0m\n\u001b[0;32m      2\u001b[0m \u001b[0mdata\u001b[0m\u001b[1;33m.\u001b[0m\u001b[0mclass_is_last\u001b[0m\u001b[1;33m(\u001b[0m\u001b[1;33m)\u001b[0m\u001b[1;33m\u001b[0m\u001b[1;33m\u001b[0m\u001b[0m\n\u001b[1;32m----> 3\u001b[1;33m \u001b[0mclassifier\u001b[0m\u001b[1;33m.\u001b[0m\u001b[0mbuild_classifier\u001b[0m\u001b[1;33m(\u001b[0m\u001b[0mdata\u001b[0m\u001b[1;33m)\u001b[0m\u001b[1;33m\u001b[0m\u001b[1;33m\u001b[0m\u001b[0m\n\u001b[0m",
      "\u001b[1;32m~\\anaconda3\\lib\\site-packages\\weka\\classifiers.py\u001b[0m in \u001b[0;36mbuild_classifier\u001b[1;34m(self, data)\u001b[0m\n\u001b[0;32m     84\u001b[0m         \u001b[1;33m:\u001b[0m\u001b[0mtype\u001b[0m \u001b[0mdata\u001b[0m\u001b[1;33m:\u001b[0m \u001b[0mInstances\u001b[0m\u001b[1;33m\u001b[0m\u001b[1;33m\u001b[0m\u001b[0m\n\u001b[0;32m     85\u001b[0m         \"\"\"\n\u001b[1;32m---> 86\u001b[1;33m         \u001b[0mjavabridge\u001b[0m\u001b[1;33m.\u001b[0m\u001b[0mcall\u001b[0m\u001b[1;33m(\u001b[0m\u001b[0mself\u001b[0m\u001b[1;33m.\u001b[0m\u001b[0mjobject\u001b[0m\u001b[1;33m,\u001b[0m \u001b[1;34m\"buildClassifier\"\u001b[0m\u001b[1;33m,\u001b[0m \u001b[1;34m\"(Lweka/core/Instances;)V\"\u001b[0m\u001b[1;33m,\u001b[0m \u001b[0mdata\u001b[0m\u001b[1;33m.\u001b[0m\u001b[0mjobject\u001b[0m\u001b[1;33m)\u001b[0m\u001b[1;33m\u001b[0m\u001b[1;33m\u001b[0m\u001b[0m\n\u001b[0m\u001b[0;32m     87\u001b[0m \u001b[1;33m\u001b[0m\u001b[0m\n\u001b[0;32m     88\u001b[0m     \u001b[1;32mdef\u001b[0m \u001b[0mupdate_classifier\u001b[0m\u001b[1;33m(\u001b[0m\u001b[0mself\u001b[0m\u001b[1;33m,\u001b[0m \u001b[0minst\u001b[0m\u001b[1;33m)\u001b[0m\u001b[1;33m:\u001b[0m\u001b[1;33m\u001b[0m\u001b[1;33m\u001b[0m\u001b[0m\n",
      "\u001b[1;32m~\\anaconda3\\lib\\site-packages\\javabridge\\jutil.py\u001b[0m in \u001b[0;36mcall\u001b[1;34m(o, method_name, sig, *args)\u001b[0m\n\u001b[0;32m    890\u001b[0m     \u001b[0mret_sig\u001b[0m \u001b[1;33m=\u001b[0m \u001b[0msig\u001b[0m\u001b[1;33m[\u001b[0m\u001b[0msig\u001b[0m\u001b[1;33m.\u001b[0m\u001b[0mfind\u001b[0m\u001b[1;33m(\u001b[0m\u001b[1;34m')'\u001b[0m\u001b[1;33m)\u001b[0m\u001b[1;33m+\u001b[0m\u001b[1;36m1\u001b[0m\u001b[1;33m:\u001b[0m\u001b[1;33m]\u001b[0m\u001b[1;33m\u001b[0m\u001b[1;33m\u001b[0m\u001b[0m\n\u001b[0;32m    891\u001b[0m     \u001b[0mnice_args\u001b[0m \u001b[1;33m=\u001b[0m \u001b[0mget_nice_args\u001b[0m\u001b[1;33m(\u001b[0m\u001b[0margs\u001b[0m\u001b[1;33m,\u001b[0m \u001b[0margs_sig\u001b[0m\u001b[1;33m)\u001b[0m\u001b[1;33m\u001b[0m\u001b[1;33m\u001b[0m\u001b[0m\n\u001b[1;32m--> 892\u001b[1;33m     \u001b[0mresult\u001b[0m \u001b[1;33m=\u001b[0m \u001b[0mfn\u001b[0m\u001b[1;33m(\u001b[0m\u001b[1;33m*\u001b[0m\u001b[0mnice_args\u001b[0m\u001b[1;33m)\u001b[0m\u001b[1;33m\u001b[0m\u001b[1;33m\u001b[0m\u001b[0m\n\u001b[0m\u001b[0;32m    893\u001b[0m     \u001b[0mx\u001b[0m \u001b[1;33m=\u001b[0m \u001b[0menv\u001b[0m\u001b[1;33m.\u001b[0m\u001b[0mexception_occurred\u001b[0m\u001b[1;33m(\u001b[0m\u001b[1;33m)\u001b[0m\u001b[1;33m\u001b[0m\u001b[1;33m\u001b[0m\u001b[0m\n\u001b[0;32m    894\u001b[0m     \u001b[1;32mif\u001b[0m \u001b[0mx\u001b[0m \u001b[1;32mis\u001b[0m \u001b[1;32mnot\u001b[0m \u001b[1;32mNone\u001b[0m\u001b[1;33m:\u001b[0m\u001b[1;33m\u001b[0m\u001b[1;33m\u001b[0m\u001b[0m\n",
      "\u001b[1;32m~\\anaconda3\\lib\\site-packages\\javabridge\\jutil.py\u001b[0m in \u001b[0;36mfn\u001b[1;34m(*args)\u001b[0m\n\u001b[0;32m    857\u001b[0m             \u001b[0mx\u001b[0m \u001b[1;33m=\u001b[0m \u001b[0menv\u001b[0m\u001b[1;33m.\u001b[0m\u001b[0mexception_occurred\u001b[0m\u001b[1;33m(\u001b[0m\u001b[1;33m)\u001b[0m\u001b[1;33m\u001b[0m\u001b[1;33m\u001b[0m\u001b[0m\n\u001b[0;32m    858\u001b[0m             \u001b[1;32mif\u001b[0m \u001b[0mx\u001b[0m \u001b[1;32mis\u001b[0m \u001b[1;32mnot\u001b[0m \u001b[1;32mNone\u001b[0m\u001b[1;33m:\u001b[0m\u001b[1;33m\u001b[0m\u001b[1;33m\u001b[0m\u001b[0m\n\u001b[1;32m--> 859\u001b[1;33m                 \u001b[1;32mraise\u001b[0m \u001b[0mJavaException\u001b[0m\u001b[1;33m(\u001b[0m\u001b[0mx\u001b[0m\u001b[1;33m)\u001b[0m\u001b[1;33m\u001b[0m\u001b[1;33m\u001b[0m\u001b[0m\n\u001b[0m\u001b[0;32m    860\u001b[0m             \u001b[1;32mreturn\u001b[0m \u001b[0mresult\u001b[0m\u001b[1;33m\u001b[0m\u001b[1;33m\u001b[0m\u001b[0m\n\u001b[0;32m    861\u001b[0m     \u001b[1;32melse\u001b[0m\u001b[1;33m:\u001b[0m\u001b[1;33m\u001b[0m\u001b[1;33m\u001b[0m\u001b[0m\n",
      "\u001b[1;31mJavaException\u001b[0m: weka.classifiers.trees.LMT: Cannot handle numeric class!"
     ]
    }
   ],
   "source": [
    "classifier = Classifier(classname=\"weka.classifiers.trees.LMT\")\n",
    "data.class_is_last()\n",
    "classifier.build_classifier(data)"
   ]
  },
  {
   "cell_type": "code",
   "execution_count": null,
   "metadata": {},
   "outputs": [],
   "source": []
  }
 ],
 "metadata": {
  "kernelspec": {
   "display_name": "Python 3",
   "language": "python",
   "name": "python3"
  },
  "language_info": {
   "codemirror_mode": {
    "name": "ipython",
    "version": 3
   },
   "file_extension": ".py",
   "mimetype": "text/x-python",
   "name": "python",
   "nbconvert_exporter": "python",
   "pygments_lexer": "ipython3",
   "version": "3.7.6"
  }
 },
 "nbformat": 4,
 "nbformat_minor": 4
}

{
 "cells": [
  {
   "cell_type": "code",
   "execution_count": 2,
   "metadata": {},
   "outputs": [
    {
     "name": "stderr",
     "output_type": "stream",
     "text": [
      "DEBUG:weka.core.jvm:Adding bundled jars\n",
      "DEBUG:weka.core.jvm:Classpath=['C:\\\\Users\\\\DHRUV\\\\anaconda3\\\\lib\\\\site-packages\\\\javabridge\\\\jars\\\\rhino-1.7R4.jar', 'C:\\\\Users\\\\DHRUV\\\\anaconda3\\\\lib\\\\site-packages\\\\javabridge\\\\jars\\\\runnablequeue.jar', 'C:\\\\Users\\\\DHRUV\\\\anaconda3\\\\lib\\\\site-packages\\\\javabridge\\\\jars\\\\cpython.jar', 'C:\\\\Users\\\\DHRUV\\\\anaconda3\\\\lib\\\\site-packages\\\\weka\\\\lib\\\\python-weka-wrapper.jar', 'C:\\\\Users\\\\DHRUV\\\\anaconda3\\\\lib\\\\site-packages\\\\weka\\\\lib\\\\weka.jar']\n",
      "DEBUG:weka.core.jvm:MaxHeapSize=default\n",
      "DEBUG:weka.core.jvm:Package support disabled\n",
      "INFO:weka.core.jvm:JVM already running, call jvm.stop() first\n"
     ]
    },
    {
     "name": "stdout",
     "output_type": "stream",
     "text": [
      "    a  b  c  d  e\n",
      "0   0  1  2  1  0\n",
      "1   0  1  1  1  1\n",
      "2   1  1  1  1  1\n",
      "3   0  1  2  1  0\n",
      "4   0  1  1  1  1\n",
      "5   1  1  1  1  1\n",
      "6   0  1  2  1  0\n",
      "7   0  1  1  1  1\n",
      "8   1  1  1  1  1\n",
      "9   0  1  2  1  0\n",
      "10  0  1  1  1  1\n",
      "11  1  1  1  1  1\n"
     ]
    }
   ],
   "source": [
    "import imblearn\n",
    "import pandas as pd\n",
    "import numpy as np\n",
    "import weka.core.jvm as jvm\n",
    "from weka.classifiers import Classifier\n",
    "from weka.core.converters import Loader, Saver\n",
    "from weka.classifiers import Classifier, Evaluation\n",
    "from weka.core.classes import Random\n",
    "from sklearn.metrics import confusion_matrix\n",
    "import seaborn as sns\n",
    "from sklearn import metrics\n",
    "from sklearn.model_selection import KFold\n",
    "jvm.start()\n",
    "jvm.start(packages=True)\n",
    "\n",
    "X = np.array([[0,1,2,1,0],[0,1,1,1,1],[1,1,1,1,1],[0,1,2,1,0],[0,1,1,1,1],[1,1,1,1,1],[0,1,2,1,0],[0,1,1,1,1],[1,1,1,1,1],[0,1,2,1,0],[0,1,1,1,1],[1,1,1,1,1]])\n",
    "X = pd.DataFrame(X,columns=['a','b','c','d','e'])\n",
    "print(X)\n"
   ]
  },
  {
   "cell_type": "code",
   "execution_count": 3,
   "metadata": {},
   "outputs": [
    {
     "name": "stdout",
     "output_type": "stream",
     "text": [
      "    O\n",
      "0   0\n",
      "1   0\n",
      "2   0\n",
      "3   0\n",
      "4   0\n",
      "5   0\n",
      "6   0\n",
      "7   0\n",
      "8   0\n",
      "9   1\n",
      "10  1\n",
      "11  1\n"
     ]
    }
   ],
   "source": [
    "y = np.array([0,0,0,0,0,0,0,0,0,1,1,1])\n",
    "y = pd.DataFrame(y,columns=['O'])\n",
    "print(y)\n"
   ]
  },
  {
   "cell_type": "code",
   "execution_count": 4,
   "metadata": {},
   "outputs": [
    {
     "name": "stdout",
     "output_type": "stream",
     "text": [
      "    a  b  c  d  e\n",
      "0   0  1  2  1  0\n",
      "1   0  1  1  1  1\n",
      "2   1  1  1  1  1\n",
      "3   0  1  2  1  0\n",
      "4   0  1  1  1  1\n",
      "5   1  1  1  1  1\n",
      "6   0  1  2  1  0\n",
      "7   0  1  1  1  1\n",
      "8   1  1  1  1  1\n",
      "9   0  1  2  1  0\n",
      "10  0  1  1  1  1\n",
      "11  1  1  1  1  1\n",
      "12  0  1  1  1  0\n",
      "13  0  1  1  1  0\n",
      "14  0  1  1  1  0\n",
      "15  0  1  1  1  1\n",
      "16  0  1  1  1  1\n",
      "17  0  1  1  1  0\n",
      "    O\n",
      "0   0\n",
      "1   0\n",
      "2   0\n",
      "3   0\n",
      "4   0\n",
      "5   0\n",
      "6   0\n",
      "7   0\n",
      "8   0\n",
      "9   1\n",
      "10  1\n",
      "11  1\n",
      "12  1\n",
      "13  1\n",
      "14  1\n",
      "15  1\n",
      "16  1\n",
      "17  1\n"
     ]
    }
   ],
   "source": [
    "from imblearn.over_sampling import SMOTE \n",
    "oversample = SMOTE(k_neighbors = 2)\n",
    "X, y = oversample.fit_resample(X, y)\n",
    "print(X)\n",
    "print(y)"
   ]
  },
  {
   "cell_type": "code",
   "execution_count": 5,
   "metadata": {},
   "outputs": [
    {
     "name": "stdout",
     "output_type": "stream",
     "text": [
      "18\n"
     ]
    }
   ],
   "source": [
    "print(X.shape[0])"
   ]
  },
  {
   "cell_type": "code",
   "execution_count": 6,
   "metadata": {},
   "outputs": [
    {
     "name": "stdout",
     "output_type": "stream",
     "text": [
      "0     0\n",
      "1     0\n",
      "2     0\n",
      "3     0\n",
      "4     0\n",
      "5     0\n",
      "6     0\n",
      "7     0\n",
      "8     0\n",
      "9     1\n",
      "10    1\n",
      "11    1\n",
      "12    1\n",
      "13    1\n",
      "14    1\n",
      "15    1\n",
      "16    1\n",
      "17    1\n",
      "Name: O, dtype: int32\n"
     ]
    }
   ],
   "source": [
    "y1 = y.iloc[:,0]\n",
    "print(y1)"
   ]
  },
  {
   "cell_type": "code",
   "execution_count": 7,
   "metadata": {},
   "outputs": [
    {
     "data": {
      "text/plain": [
       "\"\\nprint(y1.shape[0])\\n\\nfor i in np.arange(0,18):\\n    if y1[i] == 0:\\n        y1[i] = 'neg'\\n    else:\\n        y1[i] = 'pos'\\n\\nprint(y1)\\n\""
      ]
     },
     "execution_count": 7,
     "metadata": {},
     "output_type": "execute_result"
    }
   ],
   "source": [
    "\"\"\"\n",
    "print(y1.shape[0])\n",
    "\n",
    "for i in np.arange(0,18):\n",
    "    if y1[i] == 0:\n",
    "        y1[i] = 'neg'\n",
    "    else:\n",
    "        y1[i] = 'pos'\n",
    "\n",
    "print(y1)\n",
    "\"\"\""
   ]
  },
  {
   "cell_type": "code",
   "execution_count": 8,
   "metadata": {
    "scrolled": true
   },
   "outputs": [],
   "source": [
    "#df = pd.concat([X, y1], axis=1)\n",
    "#print(df)"
   ]
  },
  {
   "cell_type": "code",
   "execution_count": 9,
   "metadata": {
    "scrolled": true
   },
   "outputs": [
    {
     "name": "stdout",
     "output_type": "stream",
     "text": [
      "[[0 1 2 1 0]\n",
      " [0 1 1 1 1]\n",
      " [1 1 1 1 1]\n",
      " [0 1 2 1 0]\n",
      " [0 1 1 1 1]\n",
      " [1 1 1 1 1]\n",
      " [0 1 2 1 0]\n",
      " [0 1 1 1 1]\n",
      " [1 1 1 1 1]\n",
      " [0 1 2 1 0]\n",
      " [0 1 1 1 1]\n",
      " [1 1 1 1 1]\n",
      " [0 1 1 1 0]\n",
      " [0 1 1 1 0]\n",
      " [0 1 1 1 0]\n",
      " [0 1 1 1 1]\n",
      " [0 1 1 1 1]\n",
      " [0 1 1 1 0]]\n"
     ]
    }
   ],
   "source": [
    "from weka.core.dataset import create_instances_from_lists\n",
    "from weka.core.dataset import create_instances_from_matrices\n",
    "X1 = X.to_numpy()\n",
    "\n",
    "print(X1)"
   ]
  },
  {
   "cell_type": "code",
   "execution_count": 15,
   "metadata": {},
   "outputs": [
    {
     "name": "stdout",
     "output_type": "stream",
     "text": [
      "@relation data\n",
      "\n",
      "@attribute x1 numeric\n",
      "@attribute x2 numeric\n",
      "@attribute x3 numeric\n",
      "@attribute x4 numeric\n",
      "@attribute x5 numeric\n",
      "@attribute y numeric\n",
      "\n",
      "@data\n",
      "0,1,2,1,0,0\n",
      "0,1,1,1,1,0\n",
      "1,1,1,1,1,0\n",
      "0,1,2,1,0,0\n",
      "0,1,1,1,1,0\n",
      "1,1,1,1,1,0\n",
      "0,1,2,1,0,0\n",
      "0,1,1,1,1,0\n",
      "1,1,1,1,1,0\n",
      "0,1,2,1,0,1\n",
      "0,1,1,1,1,1\n",
      "1,1,1,1,1,1\n",
      "0,1,1,1,0,1\n",
      "0,1,1,1,0,1\n",
      "0,1,1,1,0,1\n",
      "0,1,1,1,1,1\n",
      "0,1,1,1,1,1\n",
      "0,1,1,1,0,1\n",
      "@relation data-weka.filters.unsupervised.attribute.NumericToNominal-Rlast\n",
      "\n",
      "@attribute x1 numeric\n",
      "@attribute x2 numeric\n",
      "@attribute x3 numeric\n",
      "@attribute x4 numeric\n",
      "@attribute x5 numeric\n",
      "@attribute y {0,1}\n",
      "\n",
      "@data\n",
      "0,1,2,1,0,0\n",
      "0,1,1,1,1,0\n",
      "1,1,1,1,1,0\n",
      "0,1,2,1,0,0\n",
      "0,1,1,1,1,0\n",
      "1,1,1,1,1,0\n",
      "0,1,2,1,0,0\n",
      "0,1,1,1,1,0\n",
      "1,1,1,1,1,0\n",
      "0,1,2,1,0,1\n",
      "0,1,1,1,1,1\n",
      "1,1,1,1,1,1\n",
      "0,1,1,1,0,1\n",
      "0,1,1,1,0,1\n",
      "0,1,1,1,0,1\n",
      "0,1,1,1,1,1\n",
      "0,1,1,1,1,1\n",
      "0,1,1,1,0,1\n"
     ]
    }
   ],
   "source": [
    "from weka.filters import Filter\n",
    "data = create_instances_from_matrices(X1,y1)\n",
    "\n",
    "print(data)\n",
    "\n",
    "data.attribute_names()\n",
    "\n",
    "discretize_data = Filter(classname = 'weka.filters.unsupervised.attribute.NumericToNominal', options = ['-R', 'last'])\n",
    "\n",
    "discretize_data.inputformat(data)\n",
    "discretized = discretize_data.filter(data)\n",
    "\n",
    "print(discretized)\n",
    "\n"
   ]
  },
  {
   "cell_type": "code",
   "execution_count": 17,
   "metadata": {},
   "outputs": [],
   "source": [
    "classifier = Classifier(classname=\"weka.classifiers.trees.LMT\")\n",
    "discretized.class_is_last()\n",
    "classifier.build_classifier(discretized)"
   ]
  },
  {
   "cell_type": "code",
   "execution_count": null,
   "metadata": {},
   "outputs": [],
   "source": []
  }
 ],
 "metadata": {
  "kernelspec": {
   "display_name": "Python 3",
   "language": "python",
   "name": "python3"
  },
  "language_info": {
   "codemirror_mode": {
    "name": "ipython",
    "version": 3
   },
   "file_extension": ".py",
   "mimetype": "text/x-python",
   "name": "python",
   "nbconvert_exporter": "python",
   "pygments_lexer": "ipython3",
   "version": "3.7.6"
  }
 },
 "nbformat": 4,
 "nbformat_minor": 4
}

{
 "cells": [
  {
   "cell_type": "markdown",
   "metadata": {},
   "source": [
    "HW4\n",
    "2c\n",
    "\n",
    "We have assumed that the number of predictors, m, for the random forests is constant and we don't need to compare the results (various relevant results) for different values of m even though it could be done quite simply by using a loop\n",
    "\n",
    "Total original predictors we have are 170\n",
    "We will choose m = sqrt(p) = 13 (approximately)"
   ]
  },
  {
   "cell_type": "code",
   "execution_count": 5,
   "metadata": {},
   "outputs": [
    {
     "name": "stdout",
     "output_type": "stream",
     "text": [
      "       class  aa_000    ab_000        ac_000      ad_000  ae_000  af_000  \\\n",
      "0          0   76698  0.000000  2.130706e+09  280.000000     0.0     0.0   \n",
      "1          0   33058  0.645959  0.000000e+00  638.509566     0.0     0.0   \n",
      "2          0   41040  0.644207  2.280000e+02  100.000000     0.0     0.0   \n",
      "3          0      12  0.000000  7.000000e+01   66.000000     0.0    10.0   \n",
      "4          0   60874  0.035666  1.368000e+03  458.000000     0.0     0.0   \n",
      "...      ...     ...       ...           ...         ...     ...     ...   \n",
      "59995      0  153002  0.355823  6.640000e+02  186.000000     0.0     0.0   \n",
      "59996      0    2286  0.000000  2.130707e+09  224.000000     0.0     0.0   \n",
      "59997      0     112  0.000000  2.130706e+09   18.000000     0.0     0.0   \n",
      "59998      0   80292  0.117141  2.130706e+09  494.000000     0.0     0.0   \n",
      "59999      0   40222  0.001512  6.980000e+02  628.000000     0.0     0.0   \n",
      "\n",
      "       ag_000  ag_001  ag_002  ...     ee_002    ee_003     ee_004     ee_005  \\\n",
      "0         0.0     0.0     0.0  ...  1240520.0  493384.0   721044.0   469792.0   \n",
      "1         0.0     0.0     0.0  ...   421400.0  178064.0   293306.0   245416.0   \n",
      "2         0.0     0.0     0.0  ...   277378.0  159812.0   423992.0   409564.0   \n",
      "3         0.0     0.0     0.0  ...      240.0      46.0       58.0       44.0   \n",
      "4         0.0     0.0     0.0  ...   622012.0  229790.0   405298.0   347188.0   \n",
      "...       ...     ...     ...  ...        ...       ...        ...        ...   \n",
      "59995     0.0     0.0     0.0  ...   998500.0  566884.0  1290398.0  1218244.0   \n",
      "59996     0.0     0.0     0.0  ...    10578.0    6760.0    21126.0    68424.0   \n",
      "59997     0.0     0.0     0.0  ...      792.0     386.0      452.0      144.0   \n",
      "59998     0.0     0.0     0.0  ...   699352.0  222654.0   347378.0   225724.0   \n",
      "59999     0.0     0.0     0.0  ...   440066.0  183200.0   344546.0   254068.0   \n",
      "\n",
      "          ee_006    ee_007    ee_008    ee_009  ef_000  eg_000  \n",
      "0       339156.0  157956.0   73224.0       0.0     0.0     0.0  \n",
      "1       133654.0   81140.0   97576.0    1500.0     0.0     0.0  \n",
      "2       320746.0  158022.0   95128.0     514.0     0.0     0.0  \n",
      "3           10.0       0.0       0.0       0.0     4.0    32.0  \n",
      "4       286954.0  311560.0  433954.0    1218.0     0.0     0.0  \n",
      "...          ...       ...       ...       ...     ...     ...  \n",
      "59995  1019768.0  717762.0  898642.0   28588.0     0.0     0.0  \n",
      "59996      136.0       0.0       0.0       0.0     0.0     0.0  \n",
      "59997      146.0    2622.0       0.0       0.0     0.0     0.0  \n",
      "59998   194440.0  165070.0  802280.0  388422.0     0.0     0.0  \n",
      "59999   225148.0  158304.0  170384.0     158.0     0.0     0.0  \n",
      "\n",
      "[60000 rows x 171 columns]\n",
      "       class  aa_000    ab_000        ac_000  ad_000  ae_000  af_000  ag_000  \\\n",
      "0          0      60  0.000000  2.000000e+01    12.0     0.0     0.0     0.0   \n",
      "1          0      82  0.000000  6.800000e+01    40.0     0.0     0.0     0.0   \n",
      "2          0   66002  2.000000  2.120000e+02   112.0     0.0     0.0     0.0   \n",
      "3          0   59816  0.638151  1.010000e+03   936.0     0.0     0.0     0.0   \n",
      "4          0    1814  0.108426  1.560000e+02   140.0     0.0     0.0     0.0   \n",
      "...      ...     ...       ...           ...     ...     ...     ...     ...   \n",
      "15995      0   81852  0.709256  2.130706e+09   892.0     0.0     0.0     0.0   \n",
      "15996      0      18  0.000000  5.200000e+01    46.0     8.0    26.0     0.0   \n",
      "15997      0   79636  0.063588  1.670000e+03  1518.0     0.0     0.0     0.0   \n",
      "15998      0     110  0.000000  3.600000e+01    32.0     0.0     0.0     0.0   \n",
      "15999      0       8  0.000000  6.000000e+00     4.0     2.0     2.0     0.0   \n",
      "\n",
      "       ag_001  ag_002  ...    ee_002    ee_003    ee_004    ee_005     ee_006  \\\n",
      "0         0.0     0.0  ...    1098.0     138.0     412.0     654.0       78.0   \n",
      "1         0.0     0.0  ...    1068.0     276.0    1620.0     116.0       86.0   \n",
      "2         0.0     0.0  ...  495076.0  380368.0  440134.0  269556.0  1315022.0   \n",
      "3         0.0     0.0  ...  540820.0  243270.0  483302.0  485332.0   431376.0   \n",
      "4         0.0     0.0  ...    7646.0    4144.0   18466.0   49782.0     3176.0   \n",
      "...       ...     ...  ...       ...       ...       ...       ...        ...   \n",
      "15995     0.0     0.0  ...  632658.0  273242.0  510354.0  373918.0   349840.0   \n",
      "15996     0.0     0.0  ...     266.0      44.0      46.0      14.0        2.0   \n",
      "15997     0.0     0.0  ...  806832.0  449962.0  778826.0  581558.0   375498.0   \n",
      "15998     0.0     0.0  ...     588.0     210.0     180.0     544.0     1004.0   \n",
      "15999     0.0     0.0  ...      46.0      10.0      48.0      14.0       42.0   \n",
      "\n",
      "         ee_007    ee_008   ee_009  ef_000  eg_000  \n",
      "0          88.0       0.0      0.0     0.0     0.0  \n",
      "1         462.0       0.0      0.0     0.0     0.0  \n",
      "2      153680.0     516.0      0.0     0.0     0.0  \n",
      "3      210074.0  281662.0   3232.0     0.0     0.0  \n",
      "4         482.0      76.0      0.0     0.0     0.0  \n",
      "...         ...       ...      ...     ...     ...  \n",
      "15995  317840.0  960024.0  25566.0     0.0     0.0  \n",
      "15996       0.0       0.0      0.0     0.0     0.0  \n",
      "15997  222866.0  358934.0  19548.0     0.0     0.0  \n",
      "15998    1338.0      74.0      0.0     0.0     0.0  \n",
      "15999      46.0       0.0      0.0     0.0     0.0  \n",
      "\n",
      "[16000 rows x 171 columns]\n"
     ]
    }
   ],
   "source": [
    "import pandas as pd\n",
    "import numpy as np\n",
    "from sklearn.ensemble import RandomForestClassifier\n",
    "import matplotlib.pyplot as plt\n",
    "import seaborn as sns\n",
    "\n",
    "df_train = pd.read_csv('aps_train.csv',index_col=0)\n",
    "df_test = pd.read_csv('aps_test.csv',index_col=0)\n",
    "\n",
    "print(df_train)\n",
    "print(df_test)"
   ]
  },
  {
   "cell_type": "code",
   "execution_count": 6,
   "metadata": {},
   "outputs": [
    {
     "name": "stdout",
     "output_type": "stream",
     "text": [
      "       aa_000    ab_000        ac_000      ad_000  ae_000  af_000  ag_000  \\\n",
      "0       76698  0.000000  2.130706e+09  280.000000     0.0     0.0     0.0   \n",
      "1       33058  0.645959  0.000000e+00  638.509566     0.0     0.0     0.0   \n",
      "2       41040  0.644207  2.280000e+02  100.000000     0.0     0.0     0.0   \n",
      "3          12  0.000000  7.000000e+01   66.000000     0.0    10.0     0.0   \n",
      "4       60874  0.035666  1.368000e+03  458.000000     0.0     0.0     0.0   \n",
      "...       ...       ...           ...         ...     ...     ...     ...   \n",
      "59995  153002  0.355823  6.640000e+02  186.000000     0.0     0.0     0.0   \n",
      "59996    2286  0.000000  2.130707e+09  224.000000     0.0     0.0     0.0   \n",
      "59997     112  0.000000  2.130706e+09   18.000000     0.0     0.0     0.0   \n",
      "59998   80292  0.117141  2.130706e+09  494.000000     0.0     0.0     0.0   \n",
      "59999   40222  0.001512  6.980000e+02  628.000000     0.0     0.0     0.0   \n",
      "\n",
      "       ag_001  ag_002  ag_003  ...     ee_002    ee_003     ee_004     ee_005  \\\n",
      "0         0.0     0.0     0.0  ...  1240520.0  493384.0   721044.0   469792.0   \n",
      "1         0.0     0.0     0.0  ...   421400.0  178064.0   293306.0   245416.0   \n",
      "2         0.0     0.0     0.0  ...   277378.0  159812.0   423992.0   409564.0   \n",
      "3         0.0     0.0   318.0  ...      240.0      46.0       58.0       44.0   \n",
      "4         0.0     0.0     0.0  ...   622012.0  229790.0   405298.0   347188.0   \n",
      "...       ...     ...     ...  ...        ...       ...        ...        ...   \n",
      "59995     0.0     0.0  2564.0  ...   998500.0  566884.0  1290398.0  1218244.0   \n",
      "59996     0.0     0.0     0.0  ...    10578.0    6760.0    21126.0    68424.0   \n",
      "59997     0.0     0.0     0.0  ...      792.0     386.0      452.0      144.0   \n",
      "59998     0.0     0.0     0.0  ...   699352.0  222654.0   347378.0   225724.0   \n",
      "59999     0.0     0.0     0.0  ...   440066.0  183200.0   344546.0   254068.0   \n",
      "\n",
      "          ee_006    ee_007    ee_008    ee_009  ef_000  eg_000  \n",
      "0       339156.0  157956.0   73224.0       0.0     0.0     0.0  \n",
      "1       133654.0   81140.0   97576.0    1500.0     0.0     0.0  \n",
      "2       320746.0  158022.0   95128.0     514.0     0.0     0.0  \n",
      "3           10.0       0.0       0.0       0.0     4.0    32.0  \n",
      "4       286954.0  311560.0  433954.0    1218.0     0.0     0.0  \n",
      "...          ...       ...       ...       ...     ...     ...  \n",
      "59995  1019768.0  717762.0  898642.0   28588.0     0.0     0.0  \n",
      "59996      136.0       0.0       0.0       0.0     0.0     0.0  \n",
      "59997      146.0    2622.0       0.0       0.0     0.0     0.0  \n",
      "59998   194440.0  165070.0  802280.0  388422.0     0.0     0.0  \n",
      "59999   225148.0  158304.0  170384.0     158.0     0.0     0.0  \n",
      "\n",
      "[60000 rows x 170 columns]\n",
      "       aa_000    ab_000        ac_000  ad_000  ae_000  af_000  ag_000  ag_001  \\\n",
      "0          60  0.000000  2.000000e+01    12.0     0.0     0.0     0.0     0.0   \n",
      "1          82  0.000000  6.800000e+01    40.0     0.0     0.0     0.0     0.0   \n",
      "2       66002  2.000000  2.120000e+02   112.0     0.0     0.0     0.0     0.0   \n",
      "3       59816  0.638151  1.010000e+03   936.0     0.0     0.0     0.0     0.0   \n",
      "4        1814  0.108426  1.560000e+02   140.0     0.0     0.0     0.0     0.0   \n",
      "...       ...       ...           ...     ...     ...     ...     ...     ...   \n",
      "15995   81852  0.709256  2.130706e+09   892.0     0.0     0.0     0.0     0.0   \n",
      "15996      18  0.000000  5.200000e+01    46.0     8.0    26.0     0.0     0.0   \n",
      "15997   79636  0.063588  1.670000e+03  1518.0     0.0     0.0     0.0     0.0   \n",
      "15998     110  0.000000  3.600000e+01    32.0     0.0     0.0     0.0     0.0   \n",
      "15999       8  0.000000  6.000000e+00     4.0     2.0     2.0     0.0     0.0   \n",
      "\n",
      "       ag_002    ag_003  ...    ee_002    ee_003    ee_004    ee_005  \\\n",
      "0         0.0    2682.0  ...    1098.0     138.0     412.0     654.0   \n",
      "1         0.0       0.0  ...    1068.0     276.0    1620.0     116.0   \n",
      "2         0.0  199486.0  ...  495076.0  380368.0  440134.0  269556.0   \n",
      "3         0.0       0.0  ...  540820.0  243270.0  483302.0  485332.0   \n",
      "4         0.0       0.0  ...    7646.0    4144.0   18466.0   49782.0   \n",
      "...       ...       ...  ...       ...       ...       ...       ...   \n",
      "15995     0.0       0.0  ...  632658.0  273242.0  510354.0  373918.0   \n",
      "15996     0.0       0.0  ...     266.0      44.0      46.0      14.0   \n",
      "15997     0.0       0.0  ...  806832.0  449962.0  778826.0  581558.0   \n",
      "15998     0.0       0.0  ...     588.0     210.0     180.0     544.0   \n",
      "15999     0.0       0.0  ...      46.0      10.0      48.0      14.0   \n",
      "\n",
      "          ee_006    ee_007    ee_008   ee_009  ef_000  eg_000  \n",
      "0           78.0      88.0       0.0      0.0     0.0     0.0  \n",
      "1           86.0     462.0       0.0      0.0     0.0     0.0  \n",
      "2      1315022.0  153680.0     516.0      0.0     0.0     0.0  \n",
      "3       431376.0  210074.0  281662.0   3232.0     0.0     0.0  \n",
      "4         3176.0     482.0      76.0      0.0     0.0     0.0  \n",
      "...          ...       ...       ...      ...     ...     ...  \n",
      "15995   349840.0  317840.0  960024.0  25566.0     0.0     0.0  \n",
      "15996        2.0       0.0       0.0      0.0     0.0     0.0  \n",
      "15997   375498.0  222866.0  358934.0  19548.0     0.0     0.0  \n",
      "15998     1004.0    1338.0      74.0      0.0     0.0     0.0  \n",
      "15999       42.0      46.0       0.0      0.0     0.0     0.0  \n",
      "\n",
      "[16000 rows x 170 columns]\n"
     ]
    }
   ],
   "source": [
    "X_train = df_train.drop(columns=['class'])\n",
    "X_test = df_test.drop(columns=['class'])\n",
    "\n",
    "print(X_train)\n",
    "print(X_test)"
   ]
  },
  {
   "cell_type": "code",
   "execution_count": 7,
   "metadata": {},
   "outputs": [
    {
     "name": "stdout",
     "output_type": "stream",
     "text": [
      "0        0\n",
      "1        0\n",
      "2        0\n",
      "3        0\n",
      "4        0\n",
      "        ..\n",
      "59995    0\n",
      "59996    0\n",
      "59997    0\n",
      "59998    0\n",
      "59999    0\n",
      "Name: class, Length: 60000, dtype: int64\n",
      "0        0\n",
      "1        0\n",
      "2        0\n",
      "3        0\n",
      "4        0\n",
      "        ..\n",
      "15995    0\n",
      "15996    0\n",
      "15997    0\n",
      "15998    0\n",
      "15999    0\n",
      "Name: class, Length: 16000, dtype: int64\n"
     ]
    }
   ],
   "source": [
    "y_train = df_train['class']\n",
    "y_test = df_test['class']\n",
    "\n",
    "print(y_train)\n",
    "print(y_test)"
   ]
  },
  {
   "cell_type": "code",
   "execution_count": 8,
   "metadata": {},
   "outputs": [
    {
     "name": "stdout",
     "output_type": "stream",
     "text": [
      "[0 0 0 ... 0 0 0]\n",
      "0        0\n",
      "1        0\n",
      "2        0\n",
      "3        0\n",
      "4        0\n",
      "        ..\n",
      "59995    0\n",
      "59996    0\n",
      "59997    0\n",
      "59998    0\n",
      "59999    0\n",
      "Name: class, Length: 60000, dtype: int64\n",
      "[0 0 0 ... 0 0 0]\n",
      "0        0\n",
      "1        0\n",
      "2        0\n",
      "3        0\n",
      "4        0\n",
      "        ..\n",
      "15995    0\n",
      "15996    0\n",
      "15997    0\n",
      "15998    0\n",
      "15999    0\n",
      "Name: class, Length: 16000, dtype: int64\n"
     ]
    }
   ],
   "source": [
    "forest = RandomForestClassifier(n_estimators=100,max_features='sqrt',bootstrap=True,oob_score=True) # draws all samples \n",
    "                                                                                                    # from train\n",
    "forest_fit = forest.fit(X_train,y_train)\n",
    "y_train_predicted = forest_fit.predict(X_train)\n",
    "y_test_predicted = forest_fit.predict(X_test)\n",
    "\n",
    "print(y_train_predicted)\n",
    "print(y_train)\n",
    "\n",
    "print(y_test_predicted)\n",
    "print(y_test)"
   ]
  },
  {
   "cell_type": "markdown",
   "metadata": {},
   "source": [
    "The above outputs show the predicted arrays for class above the true class series for train and test set respectively, obtained via the forest"
   ]
  },
  {
   "cell_type": "markdown",
   "metadata": {},
   "source": [
    "Out of Bag and Test Errors"
   ]
  },
  {
   "cell_type": "code",
   "execution_count": 10,
   "metadata": {},
   "outputs": [
    {
     "name": "stdout",
     "output_type": "stream",
     "text": [
      "Test error is : \n",
      " 0.7499999999999951 %\n",
      "oob error is : \n",
      " 0.6283333333333307 %\n"
     ]
    }
   ],
   "source": [
    "test_error = (1-forest_fit.score(X_test, y_test))*100\n",
    "oob_error = (1-forest_fit.oob_score_)*100\n",
    "\n",
    "print('Test error is : \\n',test_error,'%')\n",
    "print('oob error is : \\n',oob_error,'%')"
   ]
  },
  {
   "cell_type": "markdown",
   "metadata": {},
   "source": [
    "As can be seen, the errors in % are less than 1 and are extremely low. In general due to the class imbalance being as bad as 2% this is expected, as even if we classify all samples to 0, the error would still be less than 2% as we have such large class imbalance\n",
    "\n",
    "The oob error, obtained above, does a decent job of estimating the test error but still somewhat underestimates it\n",
    "\n",
    "Next, to get an idea of how good our classifier is, we get its Confusion Matrix\n",
    "\n",
    "Confusion Matrix"
   ]
  },
  {
   "cell_type": "code",
   "execution_count": 12,
   "metadata": {},
   "outputs": [
    {
     "name": "stdout",
     "output_type": "stream",
     "text": [
      "[[59000     0]\n",
      " [    1   999]]\n",
      "[[15609    16]\n",
      " [  104   271]]\n"
     ]
    }
   ],
   "source": [
    "from sklearn.metrics import confusion_matrix\n",
    "\n",
    "conf_train = confusion_matrix(y_train,y_train_predicted)\n",
    "conf_test = confusion_matrix(y_test,y_test_predicted)\n",
    "\n",
    "print(conf_train)\n",
    "print(conf_test)"
   ]
  },
  {
   "cell_type": "markdown",
   "metadata": {},
   "source": [
    "The confusion matrix are as shown above\n",
    "00 True Negative\n",
    "10 False Negative\n",
    "11 True Positive\n",
    "01 False Positive"
   ]
  },
  {
   "cell_type": "code",
   "execution_count": 13,
   "metadata": {},
   "outputs": [
    {
     "name": "stdout",
     "output_type": "stream",
     "text": [
      "Training Confusion is : \n",
      "             Predicted 0  Predicted 1\n",
      "Actually 0        59000            0\n",
      "Actually 1            1          999\n",
      "Test Confusion is : \n",
      "             Predicted 0  Predicted 1\n",
      "Actually 0        15609           16\n",
      "Actually 1          104          271\n"
     ]
    }
   ],
   "source": [
    "index_row = ['Actually 0','Actually 1']\n",
    "header_col = ['Predicted 0','Predicted 1']\n",
    "\n",
    "train_conf = pd.DataFrame(conf_train,index=index_row,columns=header_col)\n",
    "test_conf = pd.DataFrame(conf_test,index=index_row,columns=header_col)\n",
    "\n",
    "print('Training Confusion is : \\n',train_conf)\n",
    "print('Test Confusion is : \\n',test_conf)"
   ]
  },
  {
   "cell_type": "markdown",
   "metadata": {},
   "source": [
    "Focusing on Test,\n",
    "Almost all true 0's are correctly classified as 0's\n",
    "Quite a few true 1's are predicted/classified as 0's\n",
    "\n",
    "Ratio of (actually 1, predicted 1) to (total true 1's in test) is :\n",
    "\n",
    "271/(271+104) = 72.2 %\n",
    "Thus approximately 72 % of all 1's in the test set are correctly predicted as 1, rest are predicted as 0"
   ]
  },
  {
   "cell_type": "markdown",
   "metadata": {},
   "source": [
    "ROC Curve"
   ]
  },
  {
   "cell_type": "code",
   "execution_count": 31,
   "metadata": {},
   "outputs": [
    {
     "name": "stdout",
     "output_type": "stream",
     "text": [
      "            TPR       FPR\n",
      "0    0.00266667         0\n",
      "1     0.0106667         0\n",
      "2     0.0186667         0\n",
      "3         0.032         0\n",
      "4     0.0453333         0\n",
      "..          ...       ...\n",
      "96     0.978667  0.034112\n",
      "97        0.984   0.04096\n",
      "98     0.994667  0.052992\n",
      "99     0.994667   0.09184\n",
      "100           1         1\n",
      "\n",
      "[101 rows x 2 columns]\n"
     ]
    }
   ],
   "source": [
    "threshold_range = np.arange(0,1.01,0.01)\n",
    "pointer = np.arange(0,np.size(threshold_range))\n",
    "y_test_prob = forest_fit.predict_proba(X_test)\n",
    "y_test_prob_0 = y_test_prob[:,0]\n",
    "ROC_df = pd.DataFrame(index=np.arange(0,np.size(threshold_range)),columns=['TPR','FPR'])\n",
    "\n",
    "i=0\n",
    "for i in pointer:\n",
    "    y_test_predicted_new = (y_test_prob_0 <= threshold_range[i]).astype(int)\n",
    "    conf_test_new = confusion_matrix(y_test,y_test_predicted_new)\n",
    "    TPR = conf_test_new[1][1]/(conf_test_new[1][1]+conf_test_new[1][0])\n",
    "    FPR = conf_test_new[0][1]/(conf_test_new[0][1]+conf_test_new[0][0])\n",
    "    ROC_df.iloc[i,0]=TPR\n",
    "    ROC_df.iloc[i,1]=FPR    \n",
    "    \n",
    "print(ROC_df)"
   ]
  },
  {
   "cell_type": "markdown",
   "metadata": {},
   "source": [
    "Threshold = index/100\n",
    "Also as class imbalance is extreme, we have FPR suddenly rising to 1 when threshold is 1 as the probability of being in class 0 is too high (close to being 1 in quite a few cases)"
   ]
  },
  {
   "cell_type": "code",
   "execution_count": 32,
   "metadata": {},
   "outputs": [
    {
     "data": {
      "text/plain": [
       "<seaborn.axisgrid.FacetGrid at 0x11d3143b0c8>"
      ]
     },
     "execution_count": 32,
     "metadata": {},
     "output_type": "execute_result"
    },
    {
     "data": {
      "image/png": "[encoded data removed]",
      "text/plain": [
       "<Figure size 360x360 with 1 Axes>"
      ]
     },
     "metadata": {
      "needs_background": "light"
     },
     "output_type": "display_data"
    }
   ],
   "source": [
    "sns.relplot(data=ROC_df,x='FPR',y='TPR')"
   ]
  },
  {
   "cell_type": "markdown",
   "metadata": {},
   "source": [
    "This is test ROC\n",
    "As can be seen it follows typical ROC curve, also jump to 1,1 is immediate from the FPR point of view"
   ]
  },
  {
   "cell_type": "markdown",
   "metadata": {},
   "source": [
    "ROC Train"
   ]
  },
  {
   "cell_type": "code",
   "execution_count": 33,
   "metadata": {},
   "outputs": [
    {
     "name": "stdout",
     "output_type": "stream",
     "text": [
      "       TPR        FPR\n",
      "0    0.031          0\n",
      "1    0.054          0\n",
      "2    0.098          0\n",
      "3    0.146          0\n",
      "4    0.199          0\n",
      "..     ...        ...\n",
      "96       1  0.0196441\n",
      "97       1  0.0244407\n",
      "98       1  0.0336271\n",
      "99       1  0.0615763\n",
      "100      1          1\n",
      "\n",
      "[101 rows x 2 columns]\n"
     ]
    }
   ],
   "source": [
    "y_train_prob = forest_fit.predict_proba(X_train)\n",
    "y_train_prob_0 = y_train_prob[:,0]\n",
    "ROC_train_df = pd.DataFrame(index=np.arange(0,np.size(threshold_range)),columns=['TPR','FPR'])\n",
    "\n",
    "i=0\n",
    "for i in pointer:\n",
    "    y_train_predicted_new = (y_train_prob_0 <= threshold_range[i]).astype(int)\n",
    "    conf_train_new = confusion_matrix(y_train,y_train_predicted_new)\n",
    "    TPR = conf_train_new[1][1]/(conf_train_new[1][1]+conf_train_new[1][0])\n",
    "    FPR = conf_train_new[0][1]/(conf_train_new[0][1]+conf_train_new[0][0])\n",
    "    ROC_train_df.iloc[i,0]=TPR\n",
    "    ROC_train_df.iloc[i,1]=FPR    \n",
    "    \n",
    "print(ROC_train_df)"
   ]
  },
  {
   "cell_type": "code",
   "execution_count": 34,
   "metadata": {},
   "outputs": [
    {
     "data": {
      "text/plain": [
       "<seaborn.axisgrid.FacetGrid at 0x11d33398fc8>"
      ]
     },
     "execution_count": 34,
     "metadata": {},
     "output_type": "execute_result"
    },
    {
     "data": {
      "image/png": "[encoded data removed]",
      "text/plain": [
       "<Figure size 360x360 with 1 Axes>"
      ]
     },
     "metadata": {
      "needs_background": "light"
     },
     "output_type": "display_data"
    }
   ],
   "source": [
    "sns.relplot(data=ROC_train_df,x='FPR',y='TPR')"
   ]
  },
  {
   "cell_type": "markdown",
   "metadata": {},
   "source": [
    "Comparing ROC curves for Train and Test, Train ROC implies a much better model than Test, even though test implies a pretty good model (based on area under the ROC curve)"
   ]
  },
  {
   "cell_type": "markdown",
   "metadata": {},
   "source": [
    "AUC Values"
   ]
  },
  {
   "cell_type": "code",
   "execution_count": 35,
   "metadata": {},
   "outputs": [
    {
     "name": "stdout",
     "output_type": "stream",
     "text": [
      "The test AUC is : \n",
      " 0.9946333013333334\n"
     ]
    }
   ],
   "source": [
    "from sklearn import metrics\n",
    "\n",
    "auc_test = metrics.auc(ROC_df['FPR'],ROC_df['TPR'])\n",
    "\n",
    "print('The test AUC is : \\n', auc_test)"
   ]
  },
  {
   "cell_type": "code",
   "execution_count": 36,
   "metadata": {},
   "outputs": [
    {
     "name": "stdout",
     "output_type": "stream",
     "text": [
      "The train AUC is : \n",
      " 1.0\n"
     ]
    }
   ],
   "source": [
    "auc_train = metrics.auc(ROC_train_df['FPR'],ROC_train_df['TPR'])\n",
    "\n",
    "print('The train AUC is : \\n', auc_train)"
   ]
  },
  {
   "cell_type": "markdown",
   "metadata": {},
   "source": [
    "As can be seen train AUC is 1, and test AUC is pretty close to 1. Thus despite the fact that only 72 % positive imbalanced class members have been correctly classified, this model is pretty good given the extremely imbalanced dataset."
   ]
  },
  {
   "cell_type": "markdown",
   "metadata": {},
   "source": [
    "Train and Test Misclassification"
   ]
  },
  {
   "cell_type": "code",
   "execution_count": 38,
   "metadata": {},
   "outputs": [
    {
     "name": "stdout",
     "output_type": "stream",
     "text": [
      "Misclassification for Training set out of 60000 is : \n",
      " 1\n",
      "Misclassification for Test set out of 16000 is : \n",
      " 120\n"
     ]
    }
   ],
   "source": [
    "train_mis = 0\n",
    "for i in np.arange(0,60000):\n",
    "    if y_train_predicted[i] != y_train[i]:\n",
    "        train_mis = train_mis + 1\n",
    "\n",
    "test_mis = 0\n",
    "for i in np.arange(0,16000):\n",
    "    if y_test_predicted[i] != y_test[i]:\n",
    "        test_mis = test_mis + 1\n",
    "        \n",
    "print('Misclassification for Training set out of 60000 is : \\n',train_mis)\n",
    "print('Misclassification for Test set out of 16000 is : \\n',test_mis)"
   ]
  },
  {
   "cell_type": "markdown",
   "metadata": {},
   "source": [
    "Conclusion :\n",
    "Other than issue of only 72 % class 1 samples being correctly predicted (test data), the model does seem a good one. Additionally for an imbalance of 2% without utilizing any class balancing technique, this might be the best one could expect a model to perform"
   ]
  },
  {
   "cell_type": "code",
   "execution_count": null,
   "metadata": {},
   "outputs": [],
   "source": []
  }
 ],
 "metadata": {
  "kernelspec": {
   "display_name": "Python 3",
   "language": "python",
   "name": "python3"
  },
  "language_info": {
   "codemirror_mode": {
    "name": "ipython",
    "version": 3
   },
   "file_extension": ".py",
   "mimetype": "text/x-python",
   "name": "python",
   "nbconvert_exporter": "python",
   "pygments_lexer": "ipython3",
   "version": "3.7.6"
  }
 },
 "nbformat": 4,
 "nbformat_minor": 4
}
